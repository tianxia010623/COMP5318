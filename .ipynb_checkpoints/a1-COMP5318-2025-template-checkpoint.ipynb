{
 "cells": [
  {
   "cell_type": "markdown",
   "metadata": {},
   "source": [
    "# COMP5318 Assignment 1: Rice Classification"
   ]
  },
  {
   "cell_type": "markdown",
   "metadata": {},
   "source": [
    "##### Group number: ...\n",
    "##### Student 1 SID: ...\n",
    "##### Student 2 SID: ...  \n",
    "##### Student 3 SID: ... \n",
    "##### Student 4 SID: ... "
   ]
  },
  {
   "cell_type": "code",
   "execution_count": 6,
   "metadata": {},
   "outputs": [],
   "source": [
    "# Import all libraries\n",
    "from sklearn.model_selection import StratifiedKFold"
   ]
  },
  {
   "cell_type": "code",
   "execution_count": 7,
   "metadata": {},
   "outputs": [],
   "source": [
    "# Ignore future warnings\n",
    "from warnings import simplefilter\n",
    "simplefilter(action='ignore', category=FutureWarning)"
   ]
  },
  {
   "cell_type": "code",
   "execution_count": 8,
   "metadata": {},
   "outputs": [],
   "source": [
    "# Load the rice dataset: rice-final2.csv\n",
    "import numpy as np\n",
    "import pandas as pd\n",
    "import matplotlib.pyplot as plt\n",
    "import os\n",
    "from scipy import signal\n",
    "from sklearn.preprocessing import MinMaxScaler, PolynomialFeatures\n",
    "from sklearn.impute import SimpleImputer\n",
    "\n",
    "pd.set_option('display.max_columns', None)\n",
    "df = pd.read_csv('rice-final2.csv')\n"
   ]
  },
  {
   "cell_type": "code",
   "execution_count": 11,
   "metadata": {},
   "outputs": [
    {
     "data": {
      "text/html": [
       "<div>\n",
       "<style scoped>\n",
       "    .dataframe tbody tr th:only-of-type {\n",
       "        vertical-align: middle;\n",
       "    }\n",
       "\n",
       "    .dataframe tbody tr th {\n",
       "        vertical-align: top;\n",
       "    }\n",
       "\n",
       "    .dataframe thead th {\n",
       "        text-align: right;\n",
       "    }\n",
       "</style>\n",
       "<table border=\"1\" class=\"dataframe\">\n",
       "  <thead>\n",
       "    <tr style=\"text-align: right;\">\n",
       "      <th></th>\n",
       "      <th>Area</th>\n",
       "      <th>Perimiter</th>\n",
       "      <th>Major_Axis_Length</th>\n",
       "      <th>Minor_Axis_Length</th>\n",
       "      <th>Eccentricity</th>\n",
       "      <th>Convex_Area</th>\n",
       "      <th>Extent</th>\n",
       "      <th>class</th>\n",
       "      <th>class</th>\n",
       "    </tr>\n",
       "  </thead>\n",
       "  <tbody>\n",
       "    <tr>\n",
       "      <th>0</th>\n",
       "      <td>0.462769</td>\n",
       "      <td>0.540629</td>\n",
       "      <td>0.511308</td>\n",
       "      <td>0.480281</td>\n",
       "      <td>0.738024</td>\n",
       "      <td>0.469928</td>\n",
       "      <td>0.119552</td>\n",
       "      <td>1.0</td>\n",
       "      <td>1</td>\n",
       "    </tr>\n",
       "    <tr>\n",
       "      <th>1</th>\n",
       "      <td>0.489955</td>\n",
       "      <td>0.554651</td>\n",
       "      <td>0.526644</td>\n",
       "      <td>0.501827</td>\n",
       "      <td>0.731928</td>\n",
       "      <td>0.492580</td>\n",
       "      <td>0.803048</td>\n",
       "      <td>1.0</td>\n",
       "      <td>1</td>\n",
       "    </tr>\n",
       "    <tr>\n",
       "      <th>2</th>\n",
       "      <td>0.610895</td>\n",
       "      <td>0.684720</td>\n",
       "      <td>0.670676</td>\n",
       "      <td>0.540878</td>\n",
       "      <td>0.803189</td>\n",
       "      <td>0.625269</td>\n",
       "      <td>0.118465</td>\n",
       "      <td>0.0</td>\n",
       "      <td>0</td>\n",
       "    </tr>\n",
       "    <tr>\n",
       "      <th>3</th>\n",
       "      <td>0.646577</td>\n",
       "      <td>0.693038</td>\n",
       "      <td>0.667718</td>\n",
       "      <td>0.596066</td>\n",
       "      <td>0.760059</td>\n",
       "      <td>0.646651</td>\n",
       "      <td>0.266948</td>\n",
       "      <td>0.0</td>\n",
       "      <td>0</td>\n",
       "    </tr>\n",
       "    <tr>\n",
       "      <th>4</th>\n",
       "      <td>0.671164</td>\n",
       "      <td>0.623288</td>\n",
       "      <td>0.475495</td>\n",
       "      <td>0.829297</td>\n",
       "      <td>0.372052</td>\n",
       "      <td>0.680336</td>\n",
       "      <td>0.421135</td>\n",
       "      <td>1.0</td>\n",
       "      <td>1</td>\n",
       "    </tr>\n",
       "  </tbody>\n",
       "</table>\n",
       "</div>"
      ],
      "text/plain": [
       "       Area  Perimiter  Major_Axis_Length  Minor_Axis_Length  Eccentricity  \\\n",
       "0  0.462769   0.540629           0.511308           0.480281      0.738024   \n",
       "1  0.489955   0.554651           0.526644           0.501827      0.731928   \n",
       "2  0.610895   0.684720           0.670676           0.540878      0.803189   \n",
       "3  0.646577   0.693038           0.667718           0.596066      0.760059   \n",
       "4  0.671164   0.623288           0.475495           0.829297      0.372052   \n",
       "\n",
       "   Convex_Area    Extent class class  \n",
       "0     0.469928  0.119552   1.0     1  \n",
       "1     0.492580  0.803048   1.0     1  \n",
       "2     0.625269  0.118465   0.0     0  \n",
       "3     0.646651  0.266948   0.0     0  \n",
       "4     0.680336  0.421135   1.0     1  "
      ]
     },
     "execution_count": 11,
     "metadata": {},
     "output_type": "execute_result"
    }
   ],
   "source": [
    "# Pre-process dataset\n",
    "imputer =SimpleImputer(missing_values=np.nan, strategy='mean')\n",
    "df = df.apply(pd.to_numeric, errors='coerce')\n",
    "df = df.dropna(axis=1, how='all')\n",
    "df = pd.DataFrame(imputer.fit_transform(df), columns=df.columns)\n",
    "scaler = MinMaxScaler()\n",
    "df = pd.DataFrame(scaler.fit_transform(df), columns=df.columns)\n",
    "df1 = pd.read_csv('rice-final2.csv', usecols=['class'])\n",
    "df1['class'] = df1['class'].replace({\"class1\": \"0\", \"class2\": \"1\"})\n",
    "df = pd.concat([df, df1], axis=1)\n",
    "df.head()"
   ]
  },
  {
   "cell_type": "code",
   "execution_count": 12,
   "metadata": {},
   "outputs": [],
   "source": [
    "# Print first ten rows of pre-processed dataset to 4 decimal places as per assignment spec\n",
    "# A function is provided to assist\n",
    "\n",
    "def print_data(X, y, n_rows=10):\n",
    "    \"\"\"Takes a numpy data array and target and prints the first ten rows.\n",
    "    \n",
    "    Arguments:\n",
    "        X: numpy array of shape (n_examples, n_features)\n",
    "        y: numpy array of shape (n_examples)\n",
    "        n_rows: numpy of rows to print\n",
    "    \"\"\"\n",
    "    for example_num in range(n_rows):\n",
    "        for feature in X[example_num]:\n",
    "            print(\"{:.4f}\".format(feature), end=\",\")\n",
    "\n",
    "        if example_num == len(X)-1:\n",
    "            print(y[example_num],end=\"\")\n",
    "        else:\n",
    "            print(y[example_num])\n",
    "            \n"
   ]
  },
  {
   "cell_type": "raw",
   "metadata": {},
   "source": []
  },
  {
   "cell_type": "markdown",
   "metadata": {},
   "source": [
    "### Part 1: Cross-validation without parameter tuning"
   ]
  },
  {
   "cell_type": "code",
   "execution_count": 51,
   "metadata": {},
   "outputs": [],
   "source": [
    "## Setting the 10 fold stratified cross-validation\n",
    "cvKFold=StratifiedKFold(n_splits=10, shuffle=True, random_state=0)\n",
    "\n",
    "# The stratified folds from cvKFold should be provided to the classifiers"
   ]
  },
  {
   "cell_type": "code",
   "execution_count": 52,
   "metadata": {},
   "outputs": [],
   "source": [
    "# Logistic Regression\n",
    "def logregClassifier(X, y):\n",
    "\n",
    "    return scores.mean()"
   ]
  },
  {
   "cell_type": "code",
   "execution_count": 53,
   "metadata": {},
   "outputs": [],
   "source": [
    "#Naïve Bayes\n",
    "def nbClassifier(X, y):\n",
    "\n",
    "    return scores.mean()"
   ]
  },
  {
   "cell_type": "code",
   "execution_count": 54,
   "metadata": {},
   "outputs": [],
   "source": [
    "# Decision Tree\n",
    "def dtClassifier(X, y):\n",
    "\n",
    "    return scores.mean()"
   ]
  },
  {
   "cell_type": "code",
   "execution_count": 55,
   "metadata": {},
   "outputs": [],
   "source": [
    "# Ensembles: Bagging, Ada Boost and Gradient Boosting\n",
    "def bagDTClassifier(X, y, n_estimators, max_samples, max_depth):\n",
    "\n",
    "    return scores.mean()\n",
    "\n",
    "def adaDTClassifier(X, y, n_estimators, learning_rate, max_depth):\n",
    "\n",
    "    return scores.mean()\n",
    "\n",
    "def gbClassifier(X, y, n_estimators, learning_rate):\n",
    "\n",
    "    return scores.mean()"
   ]
  },
  {
   "cell_type": "markdown",
   "metadata": {},
   "source": [
    "### Part 1 Results"
   ]
  },
  {
   "cell_type": "code",
   "execution_count": 56,
   "metadata": {},
   "outputs": [
    {
     "name": "stdout",
     "output_type": "stream",
     "text": [
      "LogR average cross-validation accuracy: \n",
      "NB average cross-validation accuracy: \n",
      "DT average cross-validation accuracy: \n",
      "Bagging average cross-validation accuracy: \n",
      "AdaBoost average cross-validation accuracy: \n",
      "GB average cross-validation accuracy: \n"
     ]
    }
   ],
   "source": [
    "# Parameters for Part 1:\n",
    "\n",
    "#Bagging\n",
    "bag_n_estimators = 50\n",
    "bag_max_samples = 100\n",
    "bag_max_depth = 5\n",
    "\n",
    "#AdaBoost\n",
    "ada_n_estimators = 50\n",
    "ada_learning_rate = 0.5\n",
    "ada_bag_max_depth = 5\n",
    "\n",
    "#GB\n",
    "gb_n_estimators = 50\n",
    "gb_learning_rate = 0.5\n",
    "\n",
    "# Print results for each classifier in part 1 to 4 decimal places here:\n",
    "print(\"LogR average cross-validation accuracy: \")\n",
    "print(\"NB average cross-validation accuracy: \")\n",
    "print(\"DT average cross-validation accuracy: \")\n",
    "print(\"Bagging average cross-validation accuracy: \")\n",
    "print(\"AdaBoost average cross-validation accuracy: \")\n",
    "print(\"GB average cross-validation accuracy: \")"
   ]
  },
  {
   "cell_type": "markdown",
   "metadata": {},
   "source": [
    "### Part 2: Cross-validation with parameter tuning"
   ]
  },
  {
   "cell_type": "code",
   "execution_count": 57,
   "metadata": {},
   "outputs": [],
   "source": [
    "# KNN\n",
    "k = [1, 3, 5, 7]\n",
    "p = [1, 2]\n",
    "\n",
    "\n",
    "def bestKNNClassifier(X, y):\n",
    "    \n",
    "    return #(appropriate values so that the required printing can be done)"
   ]
  },
  {
   "cell_type": "code",
   "execution_count": 59,
   "metadata": {},
   "outputs": [],
   "source": [
    "# Random Forest\n",
    "# You should use RandomForestClassifier from sklearn.ensemble with information gain and max_features set to ‘sqrt’.\n",
    "n_estimators = [10, 30, 60, 100]\n",
    "max_leaf_nodes = [6, 12]\n",
    "\n",
    "def bestRFClassifier(X, y):\n",
    "\n",
    "    return #(appropriate values so that the required printing can be done)"
   ]
  },
  {
   "cell_type": "markdown",
   "metadata": {},
   "source": [
    "### Part 2: Results"
   ]
  },
  {
   "cell_type": "code",
   "execution_count": null,
   "metadata": {},
   "outputs": [
    {
     "name": "stdout",
     "output_type": "stream",
     "text": [
      "KNN best k: \n",
      "KNN best p: \n",
      "KNN cross-validation accuracy: \n",
      "KNN test set accuracy: \n",
      "\n",
      "RF best n_estimators: \n",
      "RF best max_leaf_nodes: \n",
      "RF cross-validation accuracy: \n",
      "RF test set accuracy: \n",
      "RF test set macro average F1: \n",
      "RF test set weighted average F1: \n"
     ]
    }
   ],
   "source": [
    "# Perform Grid Search with 10-fold stratified cross-validation (GridSearchCV in sklearn). \n",
    "# The stratified folds from cvKFold should be provided to GridSearchV\n",
    "\n",
    "# This should include using train_test_split from sklearn.model_selection with stratification and random_state=0\n",
    "# Print results for each classifier here. All results should be printed to 4 decimal places except for\n",
    "# \"k\", \"p\", n_estimators\" and \"max_leaf_nodes\" which should be printed as integers.\n",
    "print(\"KNN best k: \")\n",
    "print(\"KNN best p: \")\n",
    "print(\"KNN cross-validation accuracy: \")\n",
    "print(\"KNN test set accuracy: \")\n",
    "\n",
    "print()\n",
    "\n",
    "print(\"RF best n_estimators: \")\n",
    "print(\"RF best max_leaf_nodes: \")\n",
    "print(\"RF cross-validation accuracy: \")\n",
    "print(\"RF test set accuracy: \")\n",
    "print(\"RF test set macro average F1: \")\n",
    "print(\"RF test set weighted average F1: \")"
   ]
  }
 ],
 "metadata": {
  "kernelspec": {
   "display_name": "Python [conda env:base] *",
   "language": "python",
   "name": "conda-base-py"
  },
  "language_info": {
   "codemirror_mode": {
    "name": "ipython",
    "version": 3
   },
   "file_extension": ".py",
   "mimetype": "text/x-python",
   "name": "python",
   "nbconvert_exporter": "python",
   "pygments_lexer": "ipython3",
   "version": "3.13.5"
  }
 },
 "nbformat": 4,
 "nbformat_minor": 4
}
