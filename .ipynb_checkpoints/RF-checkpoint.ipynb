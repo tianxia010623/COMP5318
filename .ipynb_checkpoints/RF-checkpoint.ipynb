{
 "cells": [
  {
   "cell_type": "code",
   "execution_count": 1,
   "id": "82e7bced-2623-4651-aa38-77e24f723365",
   "metadata": {},
   "outputs": [],
   "source": [
    "import pandas as pd\n",
    "df = pd.read_csv(\"processed_rice.csv\")"
   ]
  },
  {
   "cell_type": "code",
   "execution_count": 2,
   "id": "6c5b727e-fbca-42ca-a77a-4ab99331d50f",
   "metadata": {},
   "outputs": [],
   "source": [
    "X = df.iloc[:, :-1]\n",
    "y = df.iloc[:, -1]"
   ]
  },
  {
   "cell_type": "code",
   "execution_count": 3,
   "id": "ae778b02-7114-4afe-862e-046019763cb2",
   "metadata": {},
   "outputs": [],
   "source": [
    "from sklearn.model_selection import train_test_split, StratifiedKFold, GridSearchCV\n",
    "from sklearn.ensemble import RandomForestClassifier\n",
    "from sklearn.metrics import accuracy_score, f1_score\n",
    "##  ===== Parameter ranges\n",
    "n_estimators = [10, 30, 60, 100]\n",
    "max_leaf_nodes = [6, 12]\n",
    "\n",
    "def bestRFClassifier(X, y):\n",
    "\n",
    "\n",
    "    # ===== Split data into train/test with stratification\n",
    "    X_train, X_test, y_train, y_test = train_test_split(\n",
    "        X, y, test_size=0.2, stratify=y, random_state=0\n",
    "    )\n",
    "\n",
    "    # ====== Stratified 10-fold cross-validation\n",
    "    cvKFold = StratifiedKFold(n_splits=10, shuffle=True, random_state=0)\n",
    "\n",
    "    # ===== Base Random Forest model \n",
    "    rf = RandomForestClassifier(\n",
    "        criterion=\"entropy\", # use information gain\n",
    "        max_features=\"sqrt\", # feature selection strategy\n",
    "        random_state=0,\n",
    "    )\n",
    "\n",
    "    # ====== Parameter grid \n",
    "    param_grid = {\n",
    "        \"n_estimators\": n_estimators,  \n",
    "        \"max_leaf_nodes\": max_leaf_nodes,   \n",
    "    }\n",
    "\n",
    "    # ===== Grid search with cross-validation \n",
    "    gscv = GridSearchCV(\n",
    "        estimator=rf,\n",
    "        param_grid=param_grid,\n",
    "        scoring=\"accuracy\",\n",
    "        cv=cvKFold,\n",
    "        n_jobs=1,      \n",
    "        refit=True,\n",
    "        return_train_score=False,\n",
    "    )\n",
    "    gscv.fit(X_train, y_train)\n",
    "\n",
    "    # ===== Get best model and CV score \n",
    "    best_model = gscv.best_estimator_\n",
    "    best_params = gscv.best_params_\n",
    "    best_cv_acc = float(gscv.best_score_)\n",
    "\n",
    "    # ====== Evaluate on the test set \n",
    "    y_pred = best_model.predict(X_test)\n",
    "    test_acc = float(accuracy_score(y_test, y_pred))\n",
    "    macro_f1 = float(f1_score(y_test, y_pred, average=\"macro\"))\n",
    "    weighted_f1 = float(f1_score(y_test, y_pred, average=\"weighted\"))\n",
    "\n",
    "    return (\n",
    "        int(best_params[\"n_estimators\"]),\n",
    "        int(best_params[\"max_leaf_nodes\"]),\n",
    "        best_cv_acc,\n",
    "        test_acc,\n",
    "        macro_f1,\n",
    "        weighted_f1\n",
    "    )\n"
   ]
  },
  {
   "cell_type": "code",
   "execution_count": 4,
   "id": "91d29532-ae56-44ea-b46d-68bdc267f934",
   "metadata": {},
   "outputs": [
    {
     "name": "stdout",
     "output_type": "stream",
     "text": [
      "RF best n_estimators: 30\n",
      "RF best max_leaf_nodes: 6\n",
      "RF cross-validation accuracy: 0.9411\n",
      "RF test set accuracy: 0.9429\n",
      "RF test set macro average F1: 0.9414\n",
      "RF test set weighted average F1: 0.9427\n"
     ]
    }
   ],
   "source": [
    "best_n, best_leaf, cv_acc, tst_acc, macro_f1, weighted_f1 = bestRFClassifier(X, y)\n",
    "\n",
    "print(\"RF best n_estimators:\", best_n)\n",
    "print(\"RF best max_leaf_nodes:\", best_leaf)\n",
    "print(\"RF cross-validation accuracy:\", round(cv_acc, 4))\n",
    "print(\"RF test set accuracy:\", round(tst_acc, 4))\n",
    "print(\"RF test set macro average F1:\", round(macro_f1, 4))\n",
    "print(\"RF test set weighted average F1:\", round(weighted_f1, 4))"
   ]
  }
 ],
 "metadata": {
  "kernelspec": {
   "display_name": "Python [conda env:base] *",
   "language": "python",
   "name": "conda-base-py"
  },
  "language_info": {
   "codemirror_mode": {
    "name": "ipython",
    "version": 3
   },
   "file_extension": ".py",
   "mimetype": "text/x-python",
   "name": "python",
   "nbconvert_exporter": "python",
   "pygments_lexer": "ipython3",
   "version": "3.12.7"
  }
 },
 "nbformat": 4,
 "nbformat_minor": 5
}
