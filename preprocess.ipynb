{
 "cells": [
  {
   "cell_type": "code",
   "execution_count": 1,
   "id": "1d7444f3-5932-44ef-bb61-d440af6c16b4",
   "metadata": {},
   "outputs": [],
   "source": [
    "import pandas as pd\n",
    "import numpy as np\n",
    "from sklearn.impute import SimpleImputer\n",
    "from sklearn.preprocessing import MinMaxScaler"
   ]
  },
  {
   "cell_type": "code",
   "execution_count": 11,
   "id": "c486d8af-4e2e-4d25-8a9b-899999344ad5",
   "metadata": {},
   "outputs": [],
   "source": [
    "df=pd.read_csv('rice-final2.csv')"
   ]
  },
  {
   "cell_type": "code",
   "execution_count": 13,
   "id": "a2f9031d-4d3a-4a6f-ac4f-509b9812cf3a",
   "metadata": {},
   "outputs": [
    {
     "data": {
      "text/html": [
       "<div>\n",
       "<style scoped>\n",
       "    .dataframe tbody tr th:only-of-type {\n",
       "        vertical-align: middle;\n",
       "    }\n",
       "\n",
       "    .dataframe tbody tr th {\n",
       "        vertical-align: top;\n",
       "    }\n",
       "\n",
       "    .dataframe thead th {\n",
       "        text-align: right;\n",
       "    }\n",
       "</style>\n",
       "<table border=\"1\" class=\"dataframe\">\n",
       "  <thead>\n",
       "    <tr style=\"text-align: right;\">\n",
       "      <th></th>\n",
       "      <th>Area</th>\n",
       "      <th>Perimiter</th>\n",
       "      <th>Major_Axis_Length</th>\n",
       "      <th>Minor_Axis_Length</th>\n",
       "      <th>Eccentricity</th>\n",
       "      <th>Convex_Area</th>\n",
       "      <th>Extent</th>\n",
       "      <th>class</th>\n",
       "    </tr>\n",
       "  </thead>\n",
       "  <tbody>\n",
       "    <tr>\n",
       "      <th>0</th>\n",
       "      <td>12573</td>\n",
       "      <td>461.4660034</td>\n",
       "      <td>192.9033508</td>\n",
       "      <td>84.57207489</td>\n",
       "      <td>0.898771763</td>\n",
       "      <td>12893</td>\n",
       "      <td>0.550433397</td>\n",
       "      <td>class2</td>\n",
       "    </tr>\n",
       "    <tr>\n",
       "      <th>1</th>\n",
       "      <td>12845</td>\n",
       "      <td>464.1210022</td>\n",
       "      <td>194.3322144</td>\n",
       "      <td>85.52433777</td>\n",
       "      <td>0.897951961</td>\n",
       "      <td>13125</td>\n",
       "      <td>0.774962306</td>\n",
       "      <td>class2</td>\n",
       "    </tr>\n",
       "    <tr>\n",
       "      <th>2</th>\n",
       "      <td>14055</td>\n",
       "      <td>488.7489929</td>\n",
       "      <td>207.7517548</td>\n",
       "      <td>87.25032806</td>\n",
       "      <td>0.907536149</td>\n",
       "      <td>14484</td>\n",
       "      <td>0.550076306</td>\n",
       "      <td>class1</td>\n",
       "    </tr>\n",
       "    <tr>\n",
       "      <th>3</th>\n",
       "      <td>14412</td>\n",
       "      <td>490.3240051</td>\n",
       "      <td>207.4761353</td>\n",
       "      <td>89.68951416</td>\n",
       "      <td>0.901735425</td>\n",
       "      <td>14703</td>\n",
       "      <td>0.598853171</td>\n",
       "      <td>class1</td>\n",
       "    </tr>\n",
       "    <tr>\n",
       "      <th>4</th>\n",
       "      <td>14658</td>\n",
       "      <td>477.1170044</td>\n",
       "      <td>189.5666351</td>\n",
       "      <td>99.99777985</td>\n",
       "      <td>0.849550545</td>\n",
       "      <td>15048</td>\n",
       "      <td>0.649503708</td>\n",
       "      <td>class2</td>\n",
       "    </tr>\n",
       "    <tr>\n",
       "      <th>5</th>\n",
       "      <td>10578</td>\n",
       "      <td>414.6199951</td>\n",
       "      <td>167.7519226</td>\n",
       "      <td>81.58570099</td>\n",
       "      <td>0.873765588</td>\n",
       "      <td>10899</td>\n",
       "      <td>0.603973985</td>\n",
       "      <td>class2</td>\n",
       "    </tr>\n",
       "    <tr>\n",
       "      <th>6</th>\n",
       "      <td>16122</td>\n",
       "      <td>539</td>\n",
       "      <td>233.9135132</td>\n",
       "      <td>89.53108215</td>\n",
       "      <td>0.923850715</td>\n",
       "      <td>16440</td>\n",
       "      <td>0.511160433</td>\n",
       "      <td>class1</td>\n",
       "    </tr>\n",
       "    <tr>\n",
       "      <th>7</th>\n",
       "      <td>11119</td>\n",
       "      <td>427.04599</td>\n",
       "      <td>178.8131256</td>\n",
       "      <td>80.61784363</td>\n",
       "      <td>0.892599881</td>\n",
       "      <td>11420</td>\n",
       "      <td>0.790712535</td>\n",
       "      <td>class2</td>\n",
       "    </tr>\n",
       "    <tr>\n",
       "      <th>8</th>\n",
       "      <td>11075</td>\n",
       "      <td>416.8500061</td>\n",
       "      <td>165.2962646</td>\n",
       "      <td>86.2791214</td>\n",
       "      <td>0.852965951</td>\n",
       "      <td>11315</td>\n",
       "      <td>0.661273003</td>\n",
       "      <td>class2</td>\n",
       "    </tr>\n",
       "    <tr>\n",
       "      <th>9</th>\n",
       "      <td>13066</td>\n",
       "      <td>458.2619934</td>\n",
       "      <td>186.3458557</td>\n",
       "      <td>90.90145874</td>\n",
       "      <td>0.872949541</td>\n",
       "      <td>13315</td>\n",
       "      <td>0.614812732</td>\n",
       "      <td>class2</td>\n",
       "    </tr>\n",
       "  </tbody>\n",
       "</table>\n",
       "</div>"
      ],
      "text/plain": [
       "    Area    Perimiter Major_Axis_Length Minor_Axis_Length Eccentricity  \\\n",
       "0  12573  461.4660034       192.9033508       84.57207489  0.898771763   \n",
       "1  12845  464.1210022       194.3322144       85.52433777  0.897951961   \n",
       "2  14055  488.7489929       207.7517548       87.25032806  0.907536149   \n",
       "3  14412  490.3240051       207.4761353       89.68951416  0.901735425   \n",
       "4  14658  477.1170044       189.5666351       99.99777985  0.849550545   \n",
       "5  10578  414.6199951       167.7519226       81.58570099  0.873765588   \n",
       "6  16122          539       233.9135132       89.53108215  0.923850715   \n",
       "7  11119    427.04599       178.8131256       80.61784363  0.892599881   \n",
       "8  11075  416.8500061       165.2962646        86.2791214  0.852965951   \n",
       "9  13066  458.2619934       186.3458557       90.90145874  0.872949541   \n",
       "\n",
       "  Convex_Area       Extent   class  \n",
       "0       12893  0.550433397  class2  \n",
       "1       13125  0.774962306  class2  \n",
       "2       14484  0.550076306  class1  \n",
       "3       14703  0.598853171  class1  \n",
       "4       15048  0.649503708  class2  \n",
       "5       10899  0.603973985  class2  \n",
       "6       16440  0.511160433  class1  \n",
       "7       11420  0.790712535  class2  \n",
       "8       11315  0.661273003  class2  \n",
       "9       13315  0.614812732  class2  "
      ]
     },
     "metadata": {},
     "output_type": "display_data"
    }
   ],
   "source": [
    "display(df.head(10))"
   ]
  },
  {
   "cell_type": "code",
   "execution_count": 31,
   "id": "945dc1d5-7946-49f8-89f8-319c6c7904f6",
   "metadata": {},
   "outputs": [],
   "source": [
    "pd.set_option('future.no_silent_downcasting', True)\n",
    "X= df.drop(columns=['class'])\n",
    "y= df['class'].replace({'class1': 0, 'class2': 1}).astype(int)"
   ]
  },
  {
   "cell_type": "code",
   "execution_count": 33,
   "id": "b9e5f5dd-c6d6-44bc-9c3e-9f2c822ac47d",
   "metadata": {},
   "outputs": [],
   "source": [
    "X=X.replace('?',np.nan).astype(float)"
   ]
  },
  {
   "cell_type": "code",
   "execution_count": 37,
   "id": "a52b9cf1-eacb-48a9-97fc-1031ed60020c",
   "metadata": {},
   "outputs": [],
   "source": [
    "imputer= SimpleImputer(strategy='mean')\n",
    "X_imputed=imputer.fit_transform(X)"
   ]
  },
  {
   "cell_type": "code",
   "execution_count": 41,
   "id": "8da1c4d0-bf67-453b-be4f-d857345271ad",
   "metadata": {},
   "outputs": [],
   "source": [
    "scaler= MinMaxScaler()\n",
    "X_scaled= scaler.fit_transform(X_imputed)"
   ]
  },
  {
   "cell_type": "code",
   "execution_count": 43,
   "id": "dd421909-2673-4762-a193-3edc4069e0f9",
   "metadata": {},
   "outputs": [],
   "source": [
    "X_scaled_df= pd.DataFrame(X_scaled, columns=X.columns)\n",
    "processed_df= X_scaled_df.copy()\n",
    "processed_df[\"class\"]= y.values"
   ]
  },
  {
   "cell_type": "code",
   "execution_count": 45,
   "id": "f4647789-439b-4921-afed-91e473f948db",
   "metadata": {},
   "outputs": [],
   "source": [
    "processed_df = processed_df.round(4)\n",
    "processed_df[\"class\"] = processed_df[\"class\"].astype(int)"
   ]
  },
  {
   "cell_type": "code",
   "execution_count": 47,
   "id": "c98be1b7-732f-4e8b-8502-54943411f1c1",
   "metadata": {},
   "outputs": [
    {
     "name": "stdout",
     "output_type": "stream",
     "text": [
      "     Area  Perimiter  Major_Axis_Length  Minor_Axis_Length  Eccentricity  \\\n",
      "0  0.4628     0.5406             0.5113             0.4803        0.7380   \n",
      "1  0.4900     0.5547             0.5266             0.5018        0.7319   \n",
      "2  0.6109     0.6847             0.6707             0.5409        0.8032   \n",
      "3  0.6466     0.6930             0.6677             0.5961        0.7601   \n",
      "4  0.6712     0.6233             0.4755             0.8293        0.3721   \n",
      "5  0.2634     0.2932             0.2414             0.4127        0.5521   \n",
      "6  0.8175     0.9501             0.9515             0.5925        0.9245   \n",
      "7  0.3174     0.3588             0.3601             0.3908        0.6921   \n",
      "8  0.3130     0.3050             0.2150             0.5189        0.3974   \n",
      "9  0.5120     0.5237             0.4409             0.6235        0.5460   \n",
      "\n",
      "   Convex_Area  Extent  class  \n",
      "0       0.4699  0.1196      1  \n",
      "1       0.4926  0.8030      1  \n",
      "2       0.6253  0.1185      0  \n",
      "3       0.6467  0.2669      0  \n",
      "4       0.6803  0.4211      1  \n",
      "5       0.2752  0.2825      1  \n",
      "6       0.8162  0.0000      0  \n",
      "7       0.3261  0.8510      1  \n",
      "8       0.3159  0.4570      1  \n",
      "9       0.5111  0.3155      1  \n"
     ]
    }
   ],
   "source": [
    "print(processed_df.head(10))"
   ]
  },
  {
   "cell_type": "code",
   "execution_count": 49,
   "id": "824b3ab6-4f49-46a2-a689-59078bc5e7ac",
   "metadata": {},
   "outputs": [],
   "source": [
    "processed_df.to_csv(\"processed_rice.csv\", index=False)"
   ]
  }
 ],
 "metadata": {
  "kernelspec": {
   "display_name": "Python [conda env:base] *",
   "language": "python",
   "name": "conda-base-py"
  },
  "language_info": {
   "codemirror_mode": {
    "name": "ipython",
    "version": 3
   },
   "file_extension": ".py",
   "mimetype": "text/x-python",
   "name": "python",
   "nbconvert_exporter": "python",
   "pygments_lexer": "ipython3",
   "version": "3.12.7"
  }
 },
 "nbformat": 4,
 "nbformat_minor": 5
}
