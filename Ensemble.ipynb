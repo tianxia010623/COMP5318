{
 "cells": [
  {
   "cell_type": "markdown",
   "id": "0eb1e6fa-0bd2-4693-93e1-bab05cac3d2b",
   "metadata": {},
   "source": [
    "# Ensemables"
   ]
  },
  {
   "cell_type": "code",
   "execution_count": 5,
   "id": "699a1b75-3d49-4e32-a8d7-e6c232042433",
   "metadata": {},
   "outputs": [],
   "source": [
    "import pandas as pd\n",
    "df = pd.read_csv(\"/Users/litianmeng/Desktop/rice_preprocessed.csv\")"
   ]
  },
  {
   "cell_type": "code",
   "execution_count": 6,
   "id": "596fc2e7-6452-42a9-bf14-2e0019d5f276",
   "metadata": {},
   "outputs": [],
   "source": [
    "import numpy as np\n",
    "from sklearn.model_selection import cross_val_score, StratifiedKFold\n",
    "from sklearn.tree import DecisionTreeClassifier\n",
    "from sklearn.ensemble import BaggingClassifier, AdaBoostClassifier, GradientBoostingClassifier"
   ]
  },
  {
   "cell_type": "code",
   "execution_count": 8,
   "id": "969ec195-db5f-4ca0-afd9-90bb57fec6e3",
   "metadata": {},
   "outputs": [],
   "source": [
    "# Separate features (X) and labels (y)\n",
    "X = df.drop(\"class\", axis=1)\n",
    "y = df[\"class\"]\n",
    "\n",
    "# Define 10-fold stratified cross-validation，to ensure balanced class distribution in each fold\n",
    "cvKFold = StratifiedKFold(n_splits=10, shuffle=True, random_state=0)"
   ]
  },
  {
   "cell_type": "markdown",
   "id": "bc2e624a-32c9-4f2b-977b-6d45bed1cd3d",
   "metadata": {},
   "source": [
    "## Bagging"
   ]
  },
  {
   "cell_type": "code",
   "execution_count": 18,
   "id": "41a180ce-0591-457c-8eba-1f5d8e712901",
   "metadata": {},
   "outputs": [],
   "source": [
    "def bagDTClassifier(X, y, n_estimators, max_samples, max_depth):\n",
    "    base_dt = DecisionTreeClassifier(criterion=\"entropy\", max_depth=max_depth, random_state=0)\n",
    "    bagging = BaggingClassifier(\n",
    "        estimator=base_dt,\n",
    "        n_estimators=n_estimators,\n",
    "        max_samples=max_samples,\n",
    "        random_state=0\n",
    "    )\n",
    "    scores = cross_val_score(bagging, X, y, cv=cvKFold)\n",
    "    return scores.mean()\n",
    "\n",
    "bag_score = bagDTClassifier(X, y, n_estimators=50, max_samples=100, max_depth=5)"
   ]
  },
  {
   "cell_type": "markdown",
   "id": "9e99c51a-3d84-472d-9747-c508de45afd5",
   "metadata": {},
   "source": [
    "## AdaBoost"
   ]
  },
  {
   "cell_type": "code",
   "execution_count": 19,
   "id": "dc3e352b-f8fe-415d-b68c-a73245a4ad68",
   "metadata": {},
   "outputs": [],
   "source": [
    "def adaDTClassifier(X, y, n_estimators, learning_rate, max_depth):\n",
    "    base_dt = DecisionTreeClassifier(criterion=\"entropy\", max_depth=max_depth, random_state=0)\n",
    "    ada = AdaBoostClassifier(\n",
    "        estimator=base_dt,\n",
    "        n_estimators=n_estimators,\n",
    "        learning_rate=learning_rate,\n",
    "        random_state=0\n",
    "    )\n",
    "    scores = cross_val_score(ada, X, y, cv=cvKFold)\n",
    "    return scores.mean()\n",
    "\n",
    "ada_score = adaDTClassifier(X, y, n_estimators=50, learning_rate=0.5, max_depth=5)"
   ]
  },
  {
   "cell_type": "markdown",
   "id": "75e4b1cf-e207-4cfc-8f52-aeb9d9932692",
   "metadata": {},
   "source": [
    "## Gradient Boosting"
   ]
  },
  {
   "cell_type": "code",
   "execution_count": 20,
   "id": "2bf7ceb2-7da0-4d68-a44a-5e85896d1e39",
   "metadata": {},
   "outputs": [],
   "source": [
    "def gbClassifier(X, y, n_estimators, learning_rate):\n",
    "    gb = GradientBoostingClassifier(\n",
    "        n_estimators=n_estimators,\n",
    "        learning_rate=learning_rate,\n",
    "        random_state=0\n",
    "    )\n",
    "    scores = cross_val_score(gb, X, y, cv=cvKFold)\n",
    "    return scores.mean()\n",
    "\n",
    "gb_score = gbClassifier(X, y, n_estimators=50, learning_rate=0.5)"
   ]
  },
  {
   "cell_type": "markdown",
   "id": "8c5f760a-c207-4479-b0ca-a4ef8a65c018",
   "metadata": {},
   "source": [
    "## Results"
   ]
  },
  {
   "cell_type": "code",
   "execution_count": 22,
   "id": "8fd4ab3b-0bc0-4dce-b2c8-4a8b644126da",
   "metadata": {},
   "outputs": [
    {
     "name": "stdout",
     "output_type": "stream",
     "text": [
      "Bagging average cross-validation accuracy: 0.9414\n",
      "AdaBoost average cross-validation accuracy: 0.9407\n",
      "GB average cross-validation accuracy: 0.9321\n"
     ]
    }
   ],
   "source": [
    "print(\"Bagging average cross-validation accuracy:\", f\"{bag_score:.4f}\")\n",
    "print(\"AdaBoost average cross-validation accuracy:\", f\"{ada_score:.4f}\")\n",
    "print(\"GB average cross-validation accuracy:\", f\"{gb_score:.4f}\")"
   ]
  },
  {
   "cell_type": "code",
   "execution_count": null,
   "id": "fa5ee50e-9f31-41e7-9aa9-dbf44cda921a",
   "metadata": {},
   "outputs": [],
   "source": []
  }
 ],
 "metadata": {
  "kernelspec": {
   "display_name": "Python [conda env:base] *",
   "language": "python",
   "name": "conda-base-py"
  },
  "language_info": {
   "codemirror_mode": {
    "name": "ipython",
    "version": 3
   },
   "file_extension": ".py",
   "mimetype": "text/x-python",
   "name": "python",
   "nbconvert_exporter": "python",
   "pygments_lexer": "ipython3",
   "version": "3.13.5"
  }
 },
 "nbformat": 4,
 "nbformat_minor": 5
}
