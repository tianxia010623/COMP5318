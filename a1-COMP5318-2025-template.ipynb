{
 "cells": [
  {
   "cell_type": "markdown",
   "metadata": {},
   "source": [
    "# COMP5318 Assignment 1: Rice Classification"
   ]
  },
  {
   "cell_type": "markdown",
   "metadata": {},
   "source": [
    "##### Group number: ...\n",
    "##### Student 1 SID: ...\n",
    "##### Student 2 SID: ...  \n",
    "##### Student 3 SID: ... \n",
    "##### Student 4 SID: ... "
   ]
  },
  {
   "cell_type": "code",
   "execution_count": 13,
   "metadata": {},
   "outputs": [],
   "source": [
    "# Import all libraries\n",
    "from sklearn.model_selection import StratifiedKFold"
   ]
  },
  {
   "cell_type": "code",
   "execution_count": 14,
   "metadata": {},
   "outputs": [],
   "source": [
    "# Ignore future warnings\n",
    "from warnings import simplefilter\n",
    "simplefilter(action='ignore', category=FutureWarning)"
   ]
  },
  {
   "cell_type": "code",
   "execution_count": 9,
   "metadata": {},
   "outputs": [],
   "source": [
    "# Load the rice dataset: rice-final2.csv\n",
    "import numpy as np\n",
    "import pandas as pd\n",
    "import matplotlib.pyplot as plt\n",
    "import os\n",
    "from scipy import signal\n",
    "from sklearn.preprocessing import MinMaxScaler, PolynomialFeatures\n",
    "from sklearn.impute import SimpleImputer\n",
    "\n",
    "pd.set_option('display.max_columns', None)\n",
    "df = pd.read_csv('rice-final2.csv')\n"
   ]
  },
  {
   "cell_type": "code",
   "execution_count": 11,
   "metadata": {},
   "outputs": [
    {
     "data": {
      "text/html": [
       "<div>\n",
       "<style scoped>\n",
       "    .dataframe tbody tr th:only-of-type {\n",
       "        vertical-align: middle;\n",
       "    }\n",
       "\n",
       "    .dataframe tbody tr th {\n",
       "        vertical-align: top;\n",
       "    }\n",
       "\n",
       "    .dataframe thead th {\n",
       "        text-align: right;\n",
       "    }\n",
       "</style>\n",
       "<table border=\"1\" class=\"dataframe\">\n",
       "  <thead>\n",
       "    <tr style=\"text-align: right;\">\n",
       "      <th></th>\n",
       "      <th>Area</th>\n",
       "      <th>Perimiter</th>\n",
       "      <th>Major_Axis_Length</th>\n",
       "      <th>Minor_Axis_Length</th>\n",
       "      <th>Eccentricity</th>\n",
       "      <th>Convex_Area</th>\n",
       "      <th>Extent</th>\n",
       "      <th>class</th>\n",
       "    </tr>\n",
       "  </thead>\n",
       "  <tbody>\n",
       "    <tr>\n",
       "      <th>0</th>\n",
       "      <td>0.4628</td>\n",
       "      <td>0.5406</td>\n",
       "      <td>0.5113</td>\n",
       "      <td>0.4803</td>\n",
       "      <td>0.7380</td>\n",
       "      <td>0.4699</td>\n",
       "      <td>0.1196</td>\n",
       "      <td>1</td>\n",
       "    </tr>\n",
       "    <tr>\n",
       "      <th>1</th>\n",
       "      <td>0.4900</td>\n",
       "      <td>0.5547</td>\n",
       "      <td>0.5266</td>\n",
       "      <td>0.5018</td>\n",
       "      <td>0.7319</td>\n",
       "      <td>0.4926</td>\n",
       "      <td>0.8030</td>\n",
       "      <td>1</td>\n",
       "    </tr>\n",
       "    <tr>\n",
       "      <th>2</th>\n",
       "      <td>0.6109</td>\n",
       "      <td>0.6847</td>\n",
       "      <td>0.6707</td>\n",
       "      <td>0.5409</td>\n",
       "      <td>0.8032</td>\n",
       "      <td>0.6253</td>\n",
       "      <td>0.1185</td>\n",
       "      <td>0</td>\n",
       "    </tr>\n",
       "    <tr>\n",
       "      <th>3</th>\n",
       "      <td>0.6466</td>\n",
       "      <td>0.6930</td>\n",
       "      <td>0.6677</td>\n",
       "      <td>0.5961</td>\n",
       "      <td>0.7601</td>\n",
       "      <td>0.6467</td>\n",
       "      <td>0.2669</td>\n",
       "      <td>0</td>\n",
       "    </tr>\n",
       "    <tr>\n",
       "      <th>4</th>\n",
       "      <td>0.6712</td>\n",
       "      <td>0.6233</td>\n",
       "      <td>0.4755</td>\n",
       "      <td>0.8293</td>\n",
       "      <td>0.3721</td>\n",
       "      <td>0.6803</td>\n",
       "      <td>0.4211</td>\n",
       "      <td>1</td>\n",
       "    </tr>\n",
       "  </tbody>\n",
       "</table>\n",
       "</div>"
      ],
      "text/plain": [
       "     Area  Perimiter  Major_Axis_Length  Minor_Axis_Length  Eccentricity  \\\n",
       "0  0.4628     0.5406             0.5113             0.4803        0.7380   \n",
       "1  0.4900     0.5547             0.5266             0.5018        0.7319   \n",
       "2  0.6109     0.6847             0.6707             0.5409        0.8032   \n",
       "3  0.6466     0.6930             0.6677             0.5961        0.7601   \n",
       "4  0.6712     0.6233             0.4755             0.8293        0.3721   \n",
       "\n",
       "   Convex_Area  Extent class  \n",
       "0       0.4699  0.1196     1  \n",
       "1       0.4926  0.8030     1  \n",
       "2       0.6253  0.1185     0  \n",
       "3       0.6467  0.2669     0  \n",
       "4       0.6803  0.4211     1  "
      ]
     },
     "execution_count": 11,
     "metadata": {},
     "output_type": "execute_result"
    }
   ],
   "source": [
    "# Pre-process dataset\n",
    "imputer =SimpleImputer(missing_values=np.nan, strategy='mean')\n",
    "df = df.apply(pd.to_numeric, errors='coerce')\n",
    "df = df.dropna(axis=1, how='all')\n",
    "df = pd.DataFrame(imputer.fit_transform(df), columns=df.columns)\n",
    "scaler = MinMaxScaler()\n",
    "df = pd.DataFrame(scaler.fit_transform(df), columns=df.columns)\n",
    "df1 = pd.read_csv('rice-final2.csv', usecols=['class'])\n",
    "df1['class'] = df1['class'].replace({\"class1\": \"0\", \"class2\": \"1\"})\n",
    "df = pd.concat([df, df1], axis=1)\n",
    "df.loc[:, df.columns != 'class'] = df.loc[:, df.columns != 'class'].round(4)\n",
    "df.to_csv(\"processed_rice.csv\", index=False)\n",
    "\n",
    "df.head()"
   ]
  },
  {
   "cell_type": "code",
   "execution_count": 15,
   "metadata": {},
   "outputs": [],
   "source": [
    "# Print first ten rows of pre-processed dataset to 4 decimal places as per assignment spec\n",
    "# A function is provided to assist\n",
    "\n",
    "def print_data(X, y, n_rows=10):\n",
    "    \"\"\"Takes a numpy data array and target and prints the first ten rows.\n",
    "    \n",
    "    Arguments:\n",
    "        X: numpy array of shape (n_examples, n_features)\n",
    "        y: numpy array of shape (n_examples)\n",
    "        n_rows: numpy of rows to print\n",
    "    \"\"\"\n",
    "    for example_num in range(n_rows):\n",
    "        for feature in X[example_num]:\n",
    "            print(\"{:.4f}\".format(feature), end=\",\")\n",
    "\n",
    "        if example_num == len(X)-1:\n",
    "            print(y[example_num],end=\"\")\n",
    "        else:\n",
    "            print(y[example_num])\n",
    "            \n"
   ]
  },
  {
   "cell_type": "code",
   "execution_count": 18,
   "metadata": {},
   "outputs": [
    {
     "name": "stdout",
     "output_type": "stream",
     "text": [
      "0.4628,0.5406,0.5113,0.4803,0.7380,0.4699,0.1196,1\n",
      "0.4900,0.5547,0.5266,0.5018,0.7319,0.4926,0.8030,1\n",
      "0.6109,0.6847,0.6707,0.5409,0.8032,0.6253,0.1185,0\n",
      "0.6466,0.6930,0.6677,0.5961,0.7601,0.6467,0.2669,0\n",
      "0.6712,0.6233,0.4755,0.8293,0.3721,0.6803,0.4211,1\n",
      "0.2634,0.2932,0.2414,0.4127,0.5521,0.2752,0.2825,1\n",
      "0.8175,0.9501,0.9515,0.5925,0.9245,0.8162,0.0000,0\n",
      "0.3174,0.3588,0.3601,0.3908,0.6921,0.3261,0.8510,1\n",
      "0.3130,0.3050,0.2150,0.5189,0.3974,0.3159,0.4570,1\n",
      "0.5120,0.5237,0.4409,0.6235,0.5460,0.5111,0.3155,1\n"
     ]
    }
   ],
   "source": [
    "X = df.drop(columns=['class']).values\n",
    "y = df['class'].values\n",
    "print_data(X,y,10)"
   ]
  },
  {
   "cell_type": "markdown",
   "metadata": {},
   "source": [
    "### Part 1: Cross-validation without parameter tuning"
   ]
  },
  {
   "cell_type": "code",
   "execution_count": 51,
   "metadata": {},
   "outputs": [],
   "source": [
    "## Setting the 10 fold stratified cross-validation\n",
    "cvKFold=StratifiedKFold(n_splits=10, shuffle=True, random_state=0)\n",
    "\n",
    "# The stratified folds from cvKFold should be provided to the classifiers"
   ]
  },
  {
   "cell_type": "code",
   "execution_count": 52,
   "metadata": {},
   "outputs": [],
   "source": [
    "# Logistic Regression\n",
    "def logregClassifier(X, y):\n",
    "\n",
    "    return scores.mean()"
   ]
  },
  {
   "cell_type": "code",
   "execution_count": 21,
   "metadata": {},
   "outputs": [],
   "source": [
    "#Naïve Bayes\n",
    "from sklearn.naive_bayes import GaussianNB\n",
    "from sklearn.model_selection import StratifiedKFold, cross_val_score\n",
    "\n",
    "\n",
    "def nbClassifier(X, y):\n",
    "    model = GaussianNB()\n",
    "    cvKFold = StratifiedKFold(n_splits=10, shuffle=True, random_state=0)\n",
    "    scores = cross_val_score(model, X, y, cv=cvKFold)\n",
    "    \n",
    "    return scores.mean()"
   ]
  },
  {
   "cell_type": "code",
   "execution_count": 22,
   "metadata": {},
   "outputs": [
    {
     "name": "stdout",
     "output_type": "stream",
     "text": [
      "Naive Bayes Average CV Accuracy: 0.9264285714285714\n"
     ]
    }
   ],
   "source": [
    "X = df.iloc[:, :-1].values\n",
    "y = df.iloc[:, -1].values\n",
    "avg_score = nbClassifier(X, y)\n",
    "print(\"Naive Bayes Average CV Accuracy:\", avg_score)\n"
   ]
  },
  {
   "cell_type": "code",
   "execution_count": 54,
   "metadata": {},
   "outputs": [],
   "source": [
    "# Decision Tree\n",
    "def dtClassifier(X, y):\n",
    "    \n",
    "    return scores.mean()"
   ]
  },
  {
   "cell_type": "code",
   "execution_count": 55,
   "metadata": {},
   "outputs": [],
   "source": [
    "# Ensembles: Bagging, Ada Boost and Gradient Boosting\n",
    "def bagDTClassifier(X, y, n_estimators, max_samples, max_depth):\n",
    "\n",
    "    return scores.mean()\n",
    "\n",
    "def adaDTClassifier(X, y, n_estimators, learning_rate, max_depth):\n",
    "\n",
    "    return scores.mean()\n",
    "\n",
    "def gbClassifier(X, y, n_estimators, learning_rate):\n",
    "\n",
    "    return scores.mean()"
   ]
  },
  {
   "cell_type": "markdown",
   "metadata": {},
   "source": [
    "### Part 1 Results"
   ]
  },
  {
   "cell_type": "code",
   "execution_count": 56,
   "metadata": {},
   "outputs": [
    {
     "name": "stdout",
     "output_type": "stream",
     "text": [
      "LogR average cross-validation accuracy: \n",
      "NB average cross-validation accuracy: \n",
      "DT average cross-validation accuracy: \n",
      "Bagging average cross-validation accuracy: \n",
      "AdaBoost average cross-validation accuracy: \n",
      "GB average cross-validation accuracy: \n"
     ]
    }
   ],
   "source": [
    "# Parameters for Part 1:\n",
    "\n",
    "#Bagging\n",
    "bag_n_estimators = 50\n",
    "bag_max_samples = 100\n",
    "bag_max_depth = 5\n",
    "\n",
    "#AdaBoost\n",
    "ada_n_estimators = 50\n",
    "ada_learning_rate = 0.5\n",
    "ada_bag_max_depth = 5\n",
    "\n",
    "#GB\n",
    "gb_n_estimators = 50\n",
    "gb_learning_rate = 0.5\n",
    "\n",
    "# Print results for each classifier in part 1 to 4 decimal places here:\n",
    "print(\"LogR average cross-validation accuracy: \")\n",
    "print(\"NB average cross-validation accuracy: \")\n",
    "print(\"DT average cross-validation accuracy: \")\n",
    "print(\"Bagging average cross-validation accuracy: \")\n",
    "print(\"AdaBoost average cross-validation accuracy: \")\n",
    "print(\"GB average cross-validation accuracy: \")"
   ]
  },
  {
   "cell_type": "markdown",
   "metadata": {},
   "source": [
    "### Part 2: Cross-validation with parameter tuning"
   ]
  },
  {
   "cell_type": "code",
   "execution_count": 23,
   "metadata": {},
   "outputs": [],
   "source": [
    "# KNN\n",
    "from sklearn.neighbors import KNeighborsClassifier\n",
    "from sklearn.model_selection import train_test_split, StratifiedKFold, GridSearchCV\n",
    "from sklearn.metrics import accuracy_score\n",
    "\n",
    "k = [1, 3, 5, 7]\n",
    "p = [1, 2]\n",
    "\n",
    "\n",
    "def bestKNNClassifier(X, y):\n",
    "    X_train, X_test, y_train, y_test = train_test_split(\n",
    "        X, y, test_size=0.3, stratify=y, random_state=0\n",
    "    )\n",
    "\n",
    "    # Step 2: Define the model\n",
    "    knn = KNeighborsClassifier()\n",
    "\n",
    "    # Step 3: Define parameter grid\n",
    "    param_grid = {\n",
    "        'n_neighbors': [1, 3, 5, 7],\n",
    "        'p': [1, 2]\n",
    "    }\n",
    "\n",
    "    # Step 4: Stratified 10-fold cross-validation\n",
    "    cvKFold = StratifiedKFold(n_splits=10, shuffle=True, random_state=0)\n",
    "\n",
    "    # Step 5: Grid search with CV\n",
    "    grid = GridSearchCV(knn, param_grid, cv=cvKFold)\n",
    "    grid.fit(X_train, y_train)\n",
    "\n",
    "    # Step 6: Get best model, best score, and test accuracy\n",
    "    best_model = grid.best_estimator_\n",
    "    best_params = grid.best_params_\n",
    "    best_cv_score = grid.best_score_\n",
    "\n",
    "    # Evaluate on test set\n",
    "    y_pred = best_model.predict(X_test)\n",
    "    test_accuracy = accuracy_score(y_test, y_pred)\n",
    "\n",
    "    # Step 7: Return values for printing\n",
    "    return best_params, best_cv_score, test_accuracy"
   ]
  },
  {
   "cell_type": "code",
   "execution_count": 24,
   "metadata": {},
   "outputs": [
    {
     "name": "stdout",
     "output_type": "stream",
     "text": [
      "Best Parameters: {'n_neighbors': 5, 'p': 1}\n",
      "Best Cross-Validation Accuracy: 0.9357142857142857\n",
      "Test Set Accuracy: 0.9333333333333333\n"
     ]
    }
   ],
   "source": [
    "X = df.iloc[:, :-1].values\n",
    "y = df.iloc[:, -1].values\n",
    "\n",
    "params, cv_score, test_score = bestKNNClassifier(X, y)\n",
    "\n",
    "print(\"Best Parameters:\", params)\n",
    "print(\"Best Cross-Validation Accuracy:\", cv_score)\n",
    "print(\"Test Set Accuracy:\", test_score)"
   ]
  },
  {
   "cell_type": "code",
   "execution_count": 59,
   "metadata": {},
   "outputs": [],
   "source": [
    "# Random Forest\n",
    "# You should use RandomForestClassifier from sklearn.ensemble with information gain and max_features set to ‘sqrt’.\n",
    "n_estimators = [10, 30, 60, 100]\n",
    "max_leaf_nodes = [6, 12]\n",
    "\n",
    "def bestRFClassifier(X, y):\n",
    "\n",
    "    return #(appropriate values so that the required printing can be done)"
   ]
  },
  {
   "cell_type": "markdown",
   "metadata": {},
   "source": [
    "### Part 2: Results"
   ]
  },
  {
   "cell_type": "code",
   "execution_count": null,
   "metadata": {},
   "outputs": [
    {
     "name": "stdout",
     "output_type": "stream",
     "text": [
      "KNN best k: \n",
      "KNN best p: \n",
      "KNN cross-validation accuracy: \n",
      "KNN test set accuracy: \n",
      "\n",
      "RF best n_estimators: \n",
      "RF best max_leaf_nodes: \n",
      "RF cross-validation accuracy: \n",
      "RF test set accuracy: \n",
      "RF test set macro average F1: \n",
      "RF test set weighted average F1: \n"
     ]
    }
   ],
   "source": [
    "# Perform Grid Search with 10-fold stratified cross-validation (GridSearchCV in sklearn). \n",
    "# The stratified folds from cvKFold should be provided to GridSearchV\n",
    "\n",
    "# This should include using train_test_split from sklearn.model_selection with stratification and random_state=0\n",
    "# Print results for each classifier here. All results should be printed to 4 decimal places except for\n",
    "# \"k\", \"p\", n_estimators\" and \"max_leaf_nodes\" which should be printed as integers.\n",
    "print(\"KNN best k: \")\n",
    "print(\"KNN best p: \")\n",
    "print(\"KNN cross-validation accuracy: \")\n",
    "print(\"KNN test set accuracy: \")\n",
    "\n",
    "print()\n",
    "\n",
    "print(\"RF best n_estimators: \")\n",
    "print(\"RF best max_leaf_nodes: \")\n",
    "print(\"RF cross-validation accuracy: \")\n",
    "print(\"RF test set accuracy: \")\n",
    "print(\"RF test set macro average F1: \")\n",
    "print(\"RF test set weighted average F1: \")"
   ]
  }
 ],
 "metadata": {
  "kernelspec": {
   "display_name": "Python [conda env:base] *",
   "language": "python",
   "name": "conda-base-py"
  },
  "language_info": {
   "codemirror_mode": {
    "name": "ipython",
    "version": 3
   },
   "file_extension": ".py",
   "mimetype": "text/x-python",
   "name": "python",
   "nbconvert_exporter": "python",
   "pygments_lexer": "ipython3",
   "version": "3.13.5"
  }
 },
 "nbformat": 4,
 "nbformat_minor": 4
}
