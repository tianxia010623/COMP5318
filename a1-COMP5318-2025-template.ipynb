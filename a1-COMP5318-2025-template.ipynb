{
 "cells": [
  {
   "cell_type": "markdown",
   "metadata": {},
   "source": [
    "# COMP5318 Assignment 1: Rice Classification"
   ]
  },
  {
   "cell_type": "markdown",
   "metadata": {},
   "source": [
    "##### Group number: ...\n",
    "##### Student 1 SID: ...\n",
    "##### Student 2 SID: ...  \n",
    "##### Student 3 SID: ... \n",
    "##### Student 4 SID: ... "
   ]
  },
  {
   "cell_type": "code",
   "execution_count": 15,
   "metadata": {},
   "outputs": [],
   "source": [
    "# Import all libraries\n",
    "from sklearn.model_selection import StratifiedKFold\n",
    "from warnings import simplefilter\n",
    "import numpy as np\n",
    "import pandas as pd\n",
    "import matplotlib.pyplot as plt\n",
    "import os\n",
    "from scipy import signal\n",
    "from sklearn.preprocessing import MinMaxScaler, PolynomialFeatures\n",
    "from sklearn.impute import SimpleImputer\n",
    "from sklearn.naive_bayes import GaussianNB\n",
    "from sklearn.model_selection import StratifiedKFold, cross_val_score\n",
    "from sklearn.linear_model import LogisticRegression\n",
    "from sklearn.model_selection import cross_val_score, StratifiedKFold\n",
    "from sklearn.tree import DecisionTreeClassifier\n",
    "from sklearn.model_selection import cross_val_score, StratifiedKFold\n",
    "from sklearn.model_selection import cross_val_score, StratifiedKFold\n",
    "from sklearn.tree import DecisionTreeClassifier\n",
    "from sklearn.neighbors import KNeighborsClassifier\n",
    "from sklearn.model_selection import train_test_split, StratifiedKFold, GridSearchCV\n",
    "from sklearn.metrics import accuracy_score\n",
    "from sklearn.model_selection import train_test_split, StratifiedKFold, GridSearchCV\n",
    "from sklearn.ensemble import RandomForestClassifier\n",
    "from sklearn.metrics import accuracy_score, f1_score\n",
    "from sklearn.ensemble import BaggingClassifier, AdaBoostClassifier, GradientBoostingClassifier"
   ]
  },
  {
   "cell_type": "code",
   "execution_count": 16,
   "metadata": {},
   "outputs": [],
   "source": [
    "# Ignore future warnings\n",
    "simplefilter(action='ignore', category=FutureWarning)"
   ]
  },
  {
   "cell_type": "code",
   "execution_count": 17,
   "metadata": {},
   "outputs": [],
   "source": [
    "# Load the rice dataset: rice-final2.csv\n",
    "\n",
    "pd.set_option('display.max_columns', None)\n",
    "df = pd.read_csv('test-before.csv')\n"
   ]
  },
  {
   "cell_type": "code",
   "execution_count": 18,
   "metadata": {},
   "outputs": [
    {
     "data": {
      "text/html": [
       "<div>\n",
       "<style scoped>\n",
       "    .dataframe tbody tr th:only-of-type {\n",
       "        vertical-align: middle;\n",
       "    }\n",
       "\n",
       "    .dataframe tbody tr th {\n",
       "        vertical-align: top;\n",
       "    }\n",
       "\n",
       "    .dataframe thead th {\n",
       "        text-align: right;\n",
       "    }\n",
       "</style>\n",
       "<table border=\"1\" class=\"dataframe\">\n",
       "  <thead>\n",
       "    <tr style=\"text-align: right;\">\n",
       "      <th></th>\n",
       "      <th>a1</th>\n",
       "      <th>a2</th>\n",
       "      <th>a3</th>\n",
       "      <th>a4</th>\n",
       "      <th>a5</th>\n",
       "      <th>a6</th>\n",
       "      <th>class</th>\n",
       "    </tr>\n",
       "  </thead>\n",
       "  <tbody>\n",
       "    <tr>\n",
       "      <th>0</th>\n",
       "      <td>0.0621</td>\n",
       "      <td>0.4999</td>\n",
       "      <td>0.5410</td>\n",
       "      <td>0.2079</td>\n",
       "      <td>0.2594</td>\n",
       "      <td>0.0613</td>\n",
       "      <td>0.0</td>\n",
       "    </tr>\n",
       "    <tr>\n",
       "      <th>1</th>\n",
       "      <td>0.8073</td>\n",
       "      <td>0.7474</td>\n",
       "      <td>0.6721</td>\n",
       "      <td>0.2634</td>\n",
       "      <td>0.2038</td>\n",
       "      <td>0.0586</td>\n",
       "      <td>0.0</td>\n",
       "    </tr>\n",
       "    <tr>\n",
       "      <th>2</th>\n",
       "      <td>0.3105</td>\n",
       "      <td>0.6030</td>\n",
       "      <td>0.4187</td>\n",
       "      <td>0.0000</td>\n",
       "      <td>0.0000</td>\n",
       "      <td>0.0900</td>\n",
       "      <td>0.0</td>\n",
       "    </tr>\n",
       "    <tr>\n",
       "      <th>3</th>\n",
       "      <td>0.3105</td>\n",
       "      <td>0.5618</td>\n",
       "      <td>0.6148</td>\n",
       "      <td>0.3604</td>\n",
       "      <td>0.0000</td>\n",
       "      <td>0.0950</td>\n",
       "      <td>0.0</td>\n",
       "    </tr>\n",
       "    <tr>\n",
       "      <th>4</th>\n",
       "      <td>0.1863</td>\n",
       "      <td>0.8144</td>\n",
       "      <td>0.6230</td>\n",
       "      <td>0.4990</td>\n",
       "      <td>0.4539</td>\n",
       "      <td>0.1597</td>\n",
       "      <td>1.0</td>\n",
       "    </tr>\n",
       "  </tbody>\n",
       "</table>\n",
       "</div>"
      ],
      "text/plain": [
       "       a1      a2      a3      a4      a5      a6  class\n",
       "0  0.0621  0.4999  0.5410  0.2079  0.2594  0.0613    0.0\n",
       "1  0.8073  0.7474  0.6721  0.2634  0.2038  0.0586    0.0\n",
       "2  0.3105  0.6030  0.4187  0.0000  0.0000  0.0900    0.0\n",
       "3  0.3105  0.5618  0.6148  0.3604  0.0000  0.0950    0.0\n",
       "4  0.1863  0.8144  0.6230  0.4990  0.4539  0.1597    1.0"
      ]
     },
     "execution_count": 18,
     "metadata": {},
     "output_type": "execute_result"
    }
   ],
   "source": [
    "# Pre-process dataset\n",
    "\n",
    "# Keep X and y as DataFrames/Series first\n",
    "X = df.iloc[:, :-1].copy()\n",
    "y = df.iloc[:, -1].copy()\n",
    "\n",
    "# Clean X\n",
    "for col in X.columns:\n",
    "    X[col] = X[col].replace(r\"[^0-9.\\-]\", np.nan, regex=True)\n",
    "    X[col] = pd.to_numeric(X[col], errors=\"coerce\")\n",
    "\n",
    "# Handle missing values\n",
    "imputer = SimpleImputer(strategy=\"mean\")\n",
    "X_imputed = pd.DataFrame(imputer.fit_transform(X), columns=X.columns)\n",
    "\n",
    "# ===== STEP 2: Normalize to [0,1] =====\n",
    "scaler = MinMaxScaler()\n",
    "X_scaled = pd.DataFrame(scaler.fit_transform(X_imputed), columns=X_imputed.columns)\n",
    "\n",
    "# ===== STEP 3: Map classes =====\n",
    "y_mapped = (\n",
    "    y.replace({\"class1\": 0, \"class2\": 1, \"Class1\": 0, \"Class2\": 1})\n",
    "     .pipe(pd.to_numeric, errors=\"coerce\")\n",
    "     .fillna(0)\n",
    "     .astype(int)\n",
    ")\n",
    "\n",
    "# ===== Merge result =====\n",
    "df_processed = pd.concat([X_scaled, y_mapped], axis=1)\n",
    "\n",
    "# Round and export\n",
    "df_processed = df_processed.astype(float).round(4)\n",
    "df_processed.to_csv(\"test-after.csv\", index=False, float_format=\"%.4f\")\n",
    "\n",
    "df_processed.head()\n"
   ]
  },
  {
   "cell_type": "code",
   "execution_count": 19,
   "metadata": {},
   "outputs": [],
   "source": [
    "# Print first ten rows of pre-processed dataset to 4 decimal places as per assignment spec\n",
    "# A function is provided to assist\n",
    "\n",
    "def print_data(X, y, n_rows=10):\n",
    "    \"\"\"Takes a numpy data array and target and prints the first ten rows.\n",
    "    \n",
    "    Arguments:\n",
    "        X: numpy array of shape (n_examples, n_features)\n",
    "        y: numpy array of shape (n_examples)\n",
    "        n_rows: numpy of rows to print\n",
    "    \"\"\"\n",
    "    for example_num in range(n_rows):\n",
    "        for feature in X[example_num]:\n",
    "            print(\"{:.4f}\".format(feature), end=\",\")\n",
    "\n",
    "        if example_num == len(X)-1:\n",
    "            print(y[example_num],end=\"\")\n",
    "        else:\n",
    "            print(y[example_num])\n",
    "            \n"
   ]
  },
  {
   "cell_type": "code",
   "execution_count": 20,
   "metadata": {},
   "outputs": [
    {
     "name": "stdout",
     "output_type": "stream",
     "text": [
      "0.0621,0.4999,0.5410,0.2079,0.2594,0.0613,0.0\n",
      "0.8073,0.7474,0.6721,0.2634,0.2038,0.0586,0.0\n",
      "0.3105,0.6030,0.4187,0.0000,0.0000,0.0900,0.0\n",
      "0.3105,0.5618,0.6148,0.3604,0.0000,0.0950,0.0\n",
      "0.1863,0.8144,0.6230,0.4990,0.4539,0.1597,1.0\n",
      "0.1863,0.6039,0.4754,0.1525,0.1000,0.0655,1.0\n",
      "0.6832,0.7114,0.6230,0.0000,0.0000,0.0877,1.0\n",
      "0.5589,0.5258,0.6230,0.5129,0.0000,0.0869,0.0\n",
      "0.1242,0.4639,0.5574,0.5822,0.0000,0.1009,1.0\n",
      "0.2484,0.5722,0.5902,0.6515,0.3835,0.0979,0.0\n"
     ]
    }
   ],
   "source": [
    "X = df_processed.iloc[:, :-1].values\n",
    "y = df_processed.iloc[:, -1].values\n",
    "print_data(X,y,10)"
   ]
  },
  {
   "cell_type": "markdown",
   "metadata": {},
   "source": [
    "### Part 1: Cross-validation without parameter tuning"
   ]
  },
  {
   "cell_type": "code",
   "execution_count": 21,
   "metadata": {},
   "outputs": [],
   "source": [
    "## Setting the 10 fold stratified cross-validation\n",
    "cvKFold=StratifiedKFold(n_splits=10, shuffle=True, random_state=0)\n",
    "\n",
    "# The stratified folds from cvKFold should be provided to the classifiers"
   ]
  },
  {
   "cell_type": "code",
   "execution_count": 22,
   "metadata": {},
   "outputs": [],
   "source": [
    "# Logistic Regression\n",
    "def logregClassifier(X, y):\n",
    "\n",
    "    clf = LogisticRegression(random_state=0, max_iter=1000)\n",
    "    scores = cross_val_score(clf, X, y, cv=cvKFold)\n",
    "   \n",
    "    return scores.mean()"
   ]
  },
  {
   "cell_type": "code",
   "execution_count": 23,
   "metadata": {},
   "outputs": [],
   "source": [
    "#Naïve Bayes\n",
    "\n",
    "def nbClassifier(X, y):\n",
    "    model = GaussianNB()\n",
    "    scores = cross_val_score(model, X, y, cv=cvKFold)\n",
    "    \n",
    "    return scores.mean()"
   ]
  },
  {
   "cell_type": "code",
   "execution_count": 24,
   "metadata": {},
   "outputs": [],
   "source": [
    "# Decision Tree\n",
    "def dtClassifier(X, y):\n",
    "    clf = DecisionTreeClassifier(criterion=\"entropy\", random_state=0)\n",
    "    scores = cross_val_score(clf, X, y, cv=cvKFold)\n",
    "    \n",
    "    return scores.mean()"
   ]
  },
  {
   "cell_type": "code",
   "execution_count": 25,
   "metadata": {},
   "outputs": [],
   "source": [
    "# Ensembles: Bagging, Ada Boost and Gradient Boosting\n",
    "def bagDTClassifier(X, y, n_estimators, max_samples, max_depth):\n",
    "    base_dt = DecisionTreeClassifier(criterion=\"entropy\", max_depth=max_depth, random_state=0)\n",
    "    bagging = BaggingClassifier(\n",
    "        estimator=base_dt,\n",
    "        n_estimators=n_estimators,\n",
    "        max_samples=max_samples,\n",
    "        random_state=0\n",
    "    )\n",
    "    scores = cross_val_score(bagging, X, y, cv=cvKFold)\n",
    "    return scores.mean()\n",
    "\n",
    "def adaDTClassifier(X, y, n_estimators, learning_rate, max_depth):\n",
    "    base_dt = DecisionTreeClassifier(criterion=\"entropy\", max_depth=max_depth, random_state=0)\n",
    "    ada = AdaBoostClassifier(\n",
    "        estimator=base_dt,\n",
    "        n_estimators=n_estimators,\n",
    "        learning_rate=learning_rate,\n",
    "        random_state=0\n",
    "    )\n",
    "    scores = cross_val_score(ada, X, y, cv=cvKFold)\n",
    "    return scores.mean()\n",
    "\n",
    "def gbClassifier(X, y, n_estimators, learning_rate):\n",
    "    gb = GradientBoostingClassifier(\n",
    "        n_estimators=n_estimators,\n",
    "        learning_rate=learning_rate,\n",
    "        random_state=0\n",
    "    )\n",
    "    scores = cross_val_score(gb, X, y, cv=cvKFold)\n",
    "    return scores.mean()"
   ]
  },
  {
   "cell_type": "markdown",
   "metadata": {},
   "source": [
    "### Part 1 Results"
   ]
  },
  {
   "cell_type": "code",
   "execution_count": 26,
   "metadata": {},
   "outputs": [
    {
     "name": "stdout",
     "output_type": "stream",
     "text": [
      "LogR average cross-validation accuracy:  0.67\n",
      "NB average cross-validation accuracy:  0.6554761904761905\n",
      "DT average cross-validation accuracy:  0.7895238095238095\n",
      "Bagging average cross-validation accuracy:  0.7514285714285713\n",
      "AdaBoost average cross-validation accuracy:  0.7702380952380953\n",
      "GB average cross-validation accuracy:  0.712857142857143\n"
     ]
    }
   ],
   "source": [
    "# Parameters for Part 1:\n",
    "\n",
    "#NB\n",
    "X = df_processed.iloc[:, :-1].values\n",
    "y = df_processed.iloc[:, -1].values\n",
    "naive_score = nbClassifier(X, y)\n",
    "\n",
    "#Bagging\n",
    "bag_n_estimators = 50\n",
    "bag_max_samples = 100\n",
    "bag_max_depth = 5\n",
    "\n",
    "bag_score = bagDTClassifier(X, y, bag_n_estimators, bag_max_samples, bag_max_depth)\n",
    "\n",
    "#AdaBoost\n",
    "ada_n_estimators = 50\n",
    "ada_learning_rate = 0.5\n",
    "ada_bag_max_depth = 5\n",
    "\n",
    "ada_score = adaDTClassifier(X, y, ada_n_estimators, ada_learning_rate, ada_bag_max_depth)\n",
    "\n",
    "#GB\n",
    "gb_n_estimators = 50\n",
    "gb_learning_rate = 0.5\n",
    "\n",
    "gb_score = gbClassifier(X, y, gb_n_estimators, gb_learning_rate)\n",
    "\n",
    "#logR\n",
    "lr_mean = logregClassifier(X, y)\n",
    "\n",
    "#DT\n",
    "dt_mean = dtClassifier(X, y)\n",
    "\n",
    "# Print results for each classifier in part 1 to 4 decimal places here:\n",
    "print(\"LogR average cross-validation accuracy: \",lr_mean)\n",
    "print(\"NB average cross-validation accuracy: \",naive_score)\n",
    "print(\"DT average cross-validation accuracy: \",dt_mean)\n",
    "print(\"Bagging average cross-validation accuracy: \",bag_score)\n",
    "print(\"AdaBoost average cross-validation accuracy: \",ada_score)\n",
    "print(\"GB average cross-validation accuracy: \",gb_score)"
   ]
  },
  {
   "cell_type": "markdown",
   "metadata": {},
   "source": [
    "### Part 2: Cross-validation with parameter tuning"
   ]
  },
  {
   "cell_type": "code",
   "execution_count": 27,
   "metadata": {},
   "outputs": [],
   "source": [
    "# KNN\n",
    "\n",
    "k = [1, 3, 5, 7]\n",
    "p = [1, 2]\n",
    "\n",
    "def bestKNNClassifier(X, y):\n",
    "    # use global/public k and p defined above\n",
    "    param_grid = {'n_neighbors': k, 'p': p}\n",
    "\n",
    "    X_train, X_test, y_train, y_test = train_test_split(\n",
    "        X, y, test_size=0.2, random_state=0, stratify=y\n",
    "    )\n",
    "\n",
    "    gs = GridSearchCV(KNeighborsClassifier(), param_grid,\n",
    "                      cv=10, scoring='accuracy')\n",
    "    gs.fit(X_train, y_train)\n",
    "\n",
    "    best_k = gs.best_params_['n_neighbors']\n",
    "    best_p = gs.best_params_['p']\n",
    "    cv_acc = gs.best_score_\n",
    "\n",
    "    test_acc = accuracy_score(y_test, gs.best_estimator_.predict(X_test))\n",
    "\n",
    "    return best_k, best_p, cv_acc, test_acc"
   ]
  },
  {
   "cell_type": "code",
   "execution_count": 28,
   "metadata": {},
   "outputs": [],
   "source": [
    "# Random Forest\n",
    "# You should use RandomForestClassifier from sklearn.ensemble with information gain and max_features set to ‘sqrt’.\n",
    "n_estimators = [10, 30, 60, 100]\n",
    "max_leaf_nodes = [6, 12]\n",
    "\n",
    "def bestRFClassifier(X, y):\n",
    "# ===== Split data into train/test with stratification\n",
    "    X_train, X_test, y_train, y_test = train_test_split(\n",
    "        X, y, test_size=0.2, stratify=y, random_state=0\n",
    "    )\n",
    "\n",
    "    # ===== Base Random Forest model \n",
    "    rf = RandomForestClassifier(\n",
    "        criterion=\"entropy\", # use information gain\n",
    "        max_features=\"sqrt\", # feature selection strategy\n",
    "        random_state=0,\n",
    "    )\n",
    "\n",
    "    # ====== Parameter grid \n",
    "    param_grid = {\n",
    "        \"n_estimators\": n_estimators,  \n",
    "        \"max_leaf_nodes\": max_leaf_nodes,   \n",
    "    }\n",
    "\n",
    "    # ===== Grid search with cross-validation \n",
    "    gscv = GridSearchCV(\n",
    "        estimator=rf,\n",
    "        param_grid=param_grid,\n",
    "        scoring=\"accuracy\",\n",
    "        cv=cvKFold,\n",
    "        n_jobs=1,      \n",
    "        refit=True,\n",
    "        return_train_score=False,\n",
    "    )\n",
    "    gscv.fit(X_train, y_train)\n",
    "\n",
    "    # ===== Get best model and CV score \n",
    "    best_model = gscv.best_estimator_\n",
    "    best_params = gscv.best_params_\n",
    "    best_cv_acc = float(gscv.best_score_)\n",
    "\n",
    "    # ====== Evaluate on the test set \n",
    "    y_pred = best_model.predict(X_test)\n",
    "    test_acc = float(accuracy_score(y_test, y_pred))\n",
    "    macro_f1 = float(f1_score(y_test, y_pred, average=\"macro\"))\n",
    "    weighted_f1 = float(f1_score(y_test, y_pred, average=\"weighted\"))\n",
    "\n",
    "    return (\n",
    "        int(best_params[\"n_estimators\"]),\n",
    "        int(best_params[\"max_leaf_nodes\"]),\n",
    "        best_cv_acc,\n",
    "        test_acc,\n",
    "        macro_f1,\n",
    "        weighted_f1\n",
    "    )\n"
   ]
  },
  {
   "cell_type": "markdown",
   "metadata": {},
   "source": [
    "### Part 2: Results"
   ]
  },
  {
   "cell_type": "code",
   "execution_count": 29,
   "metadata": {},
   "outputs": [
    {
     "name": "stdout",
     "output_type": "stream",
     "text": [
      "KNN best k: 1\n",
      "KNN best p: 1\n",
      "KNN cross-validation accuracy: 0.7176470588235293\n",
      "KNN test set accuracy: 0.5952380952380952\n",
      "\n",
      "RF best n_estimators: 60\n",
      "RF best max_leaf_nodes: 12\n",
      "RF cross-validation accuracy: 0.8202\n",
      "RF test set accuracy: 0.6667\n",
      "RF test set macro average F1: 0.6541\n",
      "RF test set weighted average F1: 0.6635\n"
     ]
    }
   ],
   "source": [
    "# Perform Grid Search with 10-fold stratified cross-validation (GridSearchCV in sklearn). \n",
    "# The stratified folds from cvKFold should be provided to GridSearchV\n",
    "\n",
    "# This should include using train_test_split from sklearn.model_selection with stratification and random_state=0\n",
    "# Print results for each classifier here. All results should be printed to 4 decimal places except for\n",
    "# \"k\", \"p\", n_estimators\" and \"max_leaf_nodes\" which should be printed as integers.\n",
    "\n",
    "best_k, best_p, cv_score, test_score = bestKNNClassifier(X, y)\n",
    "\n",
    "print(\"KNN best k:\", best_k)\n",
    "print(\"KNN best p:\", best_p)\n",
    "print(\"KNN cross-validation accuracy:\", cv_score)\n",
    "print(\"KNN test set accuracy:\", test_score)\n",
    "\n",
    "print()\n",
    "\n",
    "best_n, best_leaf, cv_acc, tst_acc, macro_f1, weighted_f1 = bestRFClassifier(X, y)\n",
    "\n",
    "\n",
    "print(\"RF best n_estimators:\", best_n)\n",
    "print(\"RF best max_leaf_nodes:\", best_leaf)\n",
    "print(\"RF cross-validation accuracy:\", round(cv_acc, 4))\n",
    "print(\"RF test set accuracy:\", round(tst_acc, 4))\n",
    "print(\"RF test set macro average F1:\", round(macro_f1, 4))\n",
    "print(\"RF test set weighted average F1:\", round(weighted_f1, 4))"
   ]
  },
  {
   "cell_type": "code",
   "execution_count": null,
   "metadata": {},
   "outputs": [],
   "source": []
  }
 ],
 "metadata": {
  "kernelspec": {
   "display_name": "Python [conda env:base] *",
   "language": "python",
   "name": "conda-base-py"
  },
  "language_info": {
   "codemirror_mode": {
    "name": "ipython",
    "version": 3
   },
   "file_extension": ".py",
   "mimetype": "text/x-python",
   "name": "python",
   "nbconvert_exporter": "python",
   "pygments_lexer": "ipython3",
   "version": "3.13.5"
  }
 },
 "nbformat": 4,
 "nbformat_minor": 4
}
